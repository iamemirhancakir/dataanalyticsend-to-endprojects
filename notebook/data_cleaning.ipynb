{
 "cells": [
  {
   "cell_type": "code",
   "execution_count": 1,
   "id": "b31d5858-f382-46ea-9af3-46cb71b1db38",
   "metadata": {},
   "outputs": [],
   "source": [
    "import pandas as pd"
   ]
  },
  {
   "cell_type": "code",
   "execution_count": 2,
   "id": "b6d6a65d-c86c-4ae5-aa74-c028a147b6be",
   "metadata": {},
   "outputs": [],
   "source": [
    "data22 = pd.read_excel('C:/Users/lenovo/OneDrive/Desktop/dataanalyticsproject/data/2022_datasi.xlsx')\n",
    "data23 = pd.read_excel('C:/Users/lenovo/OneDrive/Desktop/dataanalyticsproject/data/2023_datasi.xlsx')\n",
    "region = pd.read_excel('C:/Users/lenovo/OneDrive/Desktop/dataanalyticsproject/data/bolge_tablosu.xlsx')\n",
    "category = pd.read_excel('C:/Users/lenovo/OneDrive/Desktop/dataanalyticsproject/data/kategoriler.xlsx')\n",
    "customers = pd.read_excel('C:/Users/lenovo/OneDrive/Desktop/dataanalyticsproject/data/musteriler.xlsx')"
   ]
  },
  {
   "cell_type": "markdown",
   "id": "664dad26-3105-4b9a-859b-dc47a6516312",
   "metadata": {},
   "source": [
    "Eksik Veri Kontrolü"
   ]
  },
  {
   "cell_type": "code",
   "execution_count": 3,
   "id": "5a1ac8a3-4237-4a5c-aa97-14538646d7cc",
   "metadata": {},
   "outputs": [
    {
     "name": "stdout",
     "output_type": "stream",
     "text": [
      "Tarih               0\n",
      "Musteri Numarasi    0\n",
      "İl                  0\n",
      "Urun                0\n",
      "Satis Tutari        0\n",
      "dtype: int64 \n",
      "\n",
      "Tarih               0\n",
      "Musteri Numarasi    0\n",
      "İl                  0\n",
      "Urun                0\n",
      "Satis Tutari        0\n",
      "dtype: int64 \n",
      "\n",
      "İl       0\n",
      "Bolge    0\n",
      "dtype: int64 \n",
      "\n",
      "Urun        0\n",
      "Kategori    0\n",
      "dtype: int64 \n",
      "\n",
      "Musteri Numarasi    0\n",
      "isim                0\n",
      "dtype: int64\n"
     ]
    }
   ],
   "source": [
    "print(data22.isnull().sum(),\"\\n\")\n",
    "print(data23.isnull().sum(),\"\\n\")\n",
    "print(region.isnull().sum(),\"\\n\")\n",
    "print(category.isnull().sum(),\"\\n\")\n",
    "print(customers.isnull().sum())"
   ]
  },
  {
   "cell_type": "markdown",
   "id": "4d36d507-e98d-4575-a1ae-c2f769229691",
   "metadata": {},
   "source": [
    "Veri Türleri Kontrolü"
   ]
  },
  {
   "cell_type": "code",
   "execution_count": 4,
   "id": "0a89cc6f-47c0-40d5-aa0d-1a198d0555a0",
   "metadata": {},
   "outputs": [],
   "source": [
    "data22['Tarih'] = pd.to_datetime(data22['Tarih'])\n",
    "data23['Tarih'] = pd.to_datetime(data23['Tarih'])"
   ]
  },
  {
   "cell_type": "markdown",
   "id": "f571e28a-9060-4104-9ca3-3fc79a399768",
   "metadata": {},
   "source": [
    "Veri Setleri Birleştirme"
   ]
  },
  {
   "cell_type": "code",
   "execution_count": 9,
   "id": "4503d4d2-fbd1-4d39-bd1f-ee59e480039e",
   "metadata": {},
   "outputs": [
    {
     "name": "stdout",
     "output_type": "stream",
     "text": [
      "            Tarih  Musteri Numarasi         İl              Urun  Satis Tutari\n",
      "0      2022-01-27              3957    Malatya       Akıllı Priz          6897\n",
      "1      2022-07-22               765   Nevşehir            Laptop          5819\n",
      "2      2022-05-06               867      Adana           Blender         28090\n",
      "3      2022-05-22              4324  Balıkesir             Fırın         19643\n",
      "4      2022-06-01              2518   Adıyaman         Buzdolabı         11605\n",
      "...           ...               ...        ...               ...           ...\n",
      "134990 2023-02-12              7092    Karaman               RAM         37809\n",
      "134991 2023-11-27              6931      Konya  Kurutma Makinesi         36395\n",
      "134992 2023-02-25              5700       Rize       Diş Fırçası         37356\n",
      "134993 2023-12-28              8039    Erzurum          Hoparlör         32441\n",
      "134994 2023-04-23              7237    Denizli       Ekran Kartı         49282\n",
      "\n",
      "[134995 rows x 5 columns]\n"
     ]
    }
   ],
   "source": [
    "concated_2223_data = pd.concat([data22, data23], ignore_index=True)\n",
    "print(concated_2223_data.head(-5))"
   ]
  },
  {
   "cell_type": "code",
   "execution_count": 6,
   "id": "4968fa12-c7ea-40cc-9584-541f5b043ed0",
   "metadata": {},
   "outputs": [
    {
     "name": "stdout",
     "output_type": "stream",
     "text": [
      "       Tarih  Musteri Numarasi         İl         Urun  Satis Tutari  \\\n",
      "0 2022-01-27              3957    Malatya  Akıllı Priz          6897   \n",
      "1 2022-07-22               765   Nevşehir       Laptop          5819   \n",
      "2 2022-05-06               867      Adana      Blender         28090   \n",
      "3 2022-05-22              4324  Balıkesir        Fırın         19643   \n",
      "4 2022-06-01              2518   Adıyaman    Buzdolabı         11605   \n",
      "\n",
      "            Kategori  \n",
      "0         Elektronik  \n",
      "1         Elektronik  \n",
      "2  Küçük Ev Aletleri  \n",
      "3         Beyaz Eşya  \n",
      "4         Beyaz Eşya  \n"
     ]
    }
   ],
   "source": [
    "merged_category_product = pd.merge(concated_2223_data, category, on='Urun', how='inner')\n",
    "print(merged_category_product.head())"
   ]
  },
  {
   "cell_type": "code",
   "execution_count": 7,
   "id": "16473ab4-fb7a-4cc9-b6b6-c3cbf78a75d1",
   "metadata": {},
   "outputs": [
    {
     "name": "stdout",
     "output_type": "stream",
     "text": [
      "       Tarih  Musteri Numarasi         İl         Urun  Satis Tutari  \\\n",
      "0 2022-01-27              3957    Malatya  Akıllı Priz          6897   \n",
      "1 2022-07-22               765   Nevşehir       Laptop          5819   \n",
      "2 2022-05-06               867      Adana      Blender         28090   \n",
      "3 2022-05-22              4324  Balıkesir        Fırın         19643   \n",
      "4 2022-06-01              2518   Adıyaman    Buzdolabı         11605   \n",
      "\n",
      "            Kategori              Bolge  \n",
      "0         Elektronik       Doğu Anadolu  \n",
      "1         Elektronik         İç Anadolu  \n",
      "2  Küçük Ev Aletleri            Akdeniz  \n",
      "3         Beyaz Eşya            Marmara  \n",
      "4         Beyaz Eşya  Güneydoğu Anadolu  \n"
     ]
    }
   ],
   "source": [
    "merged_region = pd.merge(merged_category_product, region, on='İl', how='inner')\n",
    "print(merged_region.head())"
   ]
  },
  {
   "cell_type": "code",
   "execution_count": 8,
   "id": "19c943c7-b0d2-4cf8-8258-137fa25b8356",
   "metadata": {},
   "outputs": [
    {
     "name": "stdout",
     "output_type": "stream",
     "text": [
      "       Tarih  Musteri Numarasi         İl         Urun  Satis Tutari  \\\n",
      "0 2022-01-27              3957    Malatya  Akıllı Priz          6897   \n",
      "1 2022-07-22               765   Nevşehir       Laptop          5819   \n",
      "2 2022-05-06               867      Adana      Blender         28090   \n",
      "3 2022-05-22              4324  Balıkesir        Fırın         19643   \n",
      "4 2022-06-01              2518   Adıyaman    Buzdolabı         11605   \n",
      "\n",
      "            Kategori              Bolge             isim  \n",
      "0         Elektronik       Doğu Anadolu  Olivia Gonzalez  \n",
      "1         Elektronik         İç Anadolu   Scarlett Scott  \n",
      "2  Küçük Ev Aletleri            Akdeniz    Aria Martinez  \n",
      "3         Beyaz Eşya            Marmara      Grace White  \n",
      "4         Beyaz Eşya  Güneydoğu Anadolu        Ella Hill  \n"
     ]
    }
   ],
   "source": [
    "merged_customers = pd.merge(merged_region, customers, on='Musteri Numarasi', how='inner')\n",
    "print(merged_customers.head())"
   ]
  },
  {
   "cell_type": "code",
   "execution_count": null,
   "id": "f0467045-29eb-4c0c-8adf-111e7d336caf",
   "metadata": {},
   "outputs": [],
   "source": []
  }
 ],
 "metadata": {
  "kernelspec": {
   "display_name": "Python 3 (ipykernel)",
   "language": "python",
   "name": "python3"
  },
  "language_info": {
   "codemirror_mode": {
    "name": "ipython",
    "version": 3
   },
   "file_extension": ".py",
   "mimetype": "text/x-python",
   "name": "python",
   "nbconvert_exporter": "python",
   "pygments_lexer": "ipython3",
   "version": "3.12.8"
  }
 },
 "nbformat": 4,
 "nbformat_minor": 5
}
