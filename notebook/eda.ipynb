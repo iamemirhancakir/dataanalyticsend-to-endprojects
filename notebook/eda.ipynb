{
 "cells": [
  {
   "cell_type": "markdown",
   "id": "f71a1d42-18c5-4a2a-b65b-509ee7e5d2e1",
   "metadata": {},
   "source": [
    "En Çok Satılan Ürünler"
   ]
  },
  {
   "cell_type": "code",
   "execution_count": 27,
   "id": "00398747-c418-4025-87e7-712cdc638dbc",
   "metadata": {},
   "outputs": [
    {
     "name": "stdout",
     "output_type": "stream",
     "text": [
      "Urun\n",
      "Çamaşır Makinesi     71,367,578\n",
      "Tansiyon Aleti       71,209,703\n",
      "Yazıcı               71,171,929\n",
      "Akıllı Ampul         71,042,559\n",
      "Elektrikli Izgara    70,879,561\n",
      "Mikser               70,844,239\n",
      "Tablet               70,755,072\n",
      "Blender              70,614,095\n",
      "Termostat            70,236,235\n",
      "Anakart              69,422,363\n",
      "Name: Satis Tutari, dtype: object\n"
     ]
    }
   ],
   "source": [
    "top_products = concated_2223_data.groupby('Urun')['Satis Tutari'].sum().sort_values(ascending=False).apply(lambda x: f\"{x:,.0f}\").head(10)\n",
    "print(top_products)"
   ]
  },
  {
   "cell_type": "markdown",
   "id": "b50e4f13-8ec4-443d-80b7-99e48d6eb381",
   "metadata": {},
   "source": [
    "Aylık Satış Analizi"
   ]
  },
  {
   "cell_type": "code",
   "execution_count": 28,
   "id": "10afe2a3-db29-4174-a22d-d79ea4477da3",
   "metadata": {},
   "outputs": [
    {
     "name": "stdout",
     "output_type": "stream",
     "text": [
      "Month\n",
      "1     292,317,291\n",
      "2     264,892,462\n",
      "3     290,319,543\n",
      "4     277,679,394\n",
      "5     289,302,895\n",
      "6     278,079,951\n",
      "7     292,552,989\n",
      "8     284,865,450\n",
      "9     285,671,914\n",
      "10    287,835,101\n",
      "11    277,563,446\n",
      "12    287,898,781\n",
      "Name: Satis Tutari, dtype: object\n"
     ]
    }
   ],
   "source": [
    "concated_2223_data['Month'] = concated_2223_data['Tarih'].dt.month\n",
    "monthly_sales = concated_2223_data.groupby('Month')['Satis Tutari'].sum().apply(lambda x: f\"{x:,.0f}\").head(12)\n",
    "print(monthly_sales)"
   ]
  },
  {
   "cell_type": "markdown",
   "id": "de730737-a529-4466-a098-2005089e5957",
   "metadata": {},
   "source": [
    "Kategori Bazlı En Çok Satan Ürünler"
   ]
  },
  {
   "cell_type": "code",
   "execution_count": 29,
   "id": "e5b3eb79-9bfd-41ea-9489-3e71e8c431ed",
   "metadata": {},
   "outputs": [
    {
     "name": "stdout",
     "output_type": "stream",
     "text": [
      "Kategori\n",
      "Elektronik              1,429,927,974\n",
      "Küçük Ev Aletleri         957,669,394\n",
      "Bilgisayar Parçaları      478,225,937\n",
      "Beyaz Eşya                339,196,192\n",
      "Sağlık                    137,890,166\n",
      "Ev Aksesuarları            66,069,554\n",
      "Name: Satis Tutari, dtype: object\n"
     ]
    }
   ],
   "source": [
    "top_category = merged_category_product.groupby('Kategori')['Satis Tutari'].sum().sort_values(ascending=False).apply(lambda x: f\"{x:,.0f}\").head(10)\n",
    "print(top_category)"
   ]
  },
  {
   "cell_type": "markdown",
   "id": "42e7eed8-eb7e-47df-8dc0-4832f7ab4e83",
   "metadata": {},
   "source": [
    "Bölge Bazlı En çok Satan Kategori ve Ürün"
   ]
  },
  {
   "cell_type": "code",
   "execution_count": 30,
   "id": "1a815641-a913-4a8b-902c-346a73fa9a75",
   "metadata": {},
   "outputs": [
    {
     "name": "stdout",
     "output_type": "stream",
     "text": [
      "         Bolge              Kategori                Urun Satis Tutari\n",
      "0    Karadeniz                Sağlık      Tansiyon Aleti   17,647,693\n",
      "1    Karadeniz            Elektronik              Tablet   16,898,451\n",
      "2    Karadeniz            Elektronik   Güvenlik Kamerası   16,864,343\n",
      "3    Karadeniz            Elektronik        Akıllı Ampul   16,703,253\n",
      "4    Karadeniz     Küçük Ev Aletleri              Mikser   16,677,144\n",
      "..         ...                   ...                 ...          ...\n",
      "340        Ege     Küçük Ev Aletleri              Mikser    6,155,216\n",
      "341        Ege            Elektronik  Elektrikli Scooter    6,128,128\n",
      "342    Akdeniz            Elektronik            Hoparlör    6,076,277\n",
      "343    Akdeniz  Bilgisayar Parçaları                 HDD    6,058,963\n",
      "344    Akdeniz       Ev Aksesuarları        Masa Lambası    6,033,878\n",
      "\n",
      "[345 rows x 4 columns]\n"
     ]
    }
   ],
   "source": [
    "top_region = (\n",
    "    merged_region.groupby(['Bolge', 'Kategori', 'Urun'])['Satis Tutari']\n",
    "    .sum()\n",
    "    .sort_values(ascending=False)\n",
    "    .apply(lambda x: f\"{x:,.0f}\")\n",
    "    .reset_index()\n",
    "    .head(-5))\n",
    "print(top_region)"
   ]
  },
  {
   "cell_type": "markdown",
   "id": "bc06c9b9-8b14-4769-a796-9c06b96152d9",
   "metadata": {},
   "source": [
    "Toplam Müşteri Sayısı"
   ]
  },
  {
   "cell_type": "code",
   "execution_count": 31,
   "id": "eeb25078-7d5b-4dc3-a369-876e3648fbc5",
   "metadata": {},
   "outputs": [
    {
     "name": "stdout",
     "output_type": "stream",
     "text": [
      "Toplam Müşteri Sayısı: 10000\n"
     ]
    }
   ],
   "source": [
    "total_customers = merged_customers['Musteri Numarasi'].nunique()\n",
    "print(f\"Toplam Müşteri Sayısı: {total_customers}\")"
   ]
  },
  {
   "cell_type": "markdown",
   "id": "de758522-145a-4de1-8500-64cf11f9621b",
   "metadata": {},
   "source": [
    "Aylara Göre Müşteri Sayısı"
   ]
  },
  {
   "cell_type": "code",
   "execution_count": 32,
   "id": "f6d60a56-4bdb-48cc-818b-b6a36babec93",
   "metadata": {},
   "outputs": [
    {
     "ename": "KeyError",
     "evalue": "'Month'",
     "output_type": "error",
     "traceback": [
      "\u001b[1;31m---------------------------------------------------------------------------\u001b[0m",
      "\u001b[1;31mKeyError\u001b[0m                                  Traceback (most recent call last)",
      "Cell \u001b[1;32mIn[32], line 1\u001b[0m\n\u001b[1;32m----> 1\u001b[0m monthly_customers \u001b[38;5;241m=\u001b[39m \u001b[43mmerged_customers\u001b[49m\u001b[38;5;241;43m.\u001b[39;49m\u001b[43mgroupby\u001b[49m\u001b[43m(\u001b[49m\u001b[38;5;124;43m'\u001b[39;49m\u001b[38;5;124;43mMonth\u001b[39;49m\u001b[38;5;124;43m'\u001b[39;49m\u001b[43m)\u001b[49m[\u001b[38;5;124m'\u001b[39m\u001b[38;5;124mMusteri Numarasi\u001b[39m\u001b[38;5;124m'\u001b[39m]\u001b[38;5;241m.\u001b[39mnunique()\u001b[38;5;241m.\u001b[39msort_values(ascending\u001b[38;5;241m=\u001b[39m\u001b[38;5;28;01mFalse\u001b[39;00m)\u001b[38;5;241m.\u001b[39mhead(\u001b[38;5;241m12\u001b[39m)\n\u001b[0;32m      2\u001b[0m \u001b[38;5;28mprint\u001b[39m(monthly_customers)\n",
      "File \u001b[1;32m~\\AppData\\Local\\Programs\\Python\\Python312\\Lib\\site-packages\\pandas\\core\\frame.py:9183\u001b[0m, in \u001b[0;36mDataFrame.groupby\u001b[1;34m(self, by, axis, level, as_index, sort, group_keys, observed, dropna)\u001b[0m\n\u001b[0;32m   9180\u001b[0m \u001b[38;5;28;01mif\u001b[39;00m level \u001b[38;5;129;01mis\u001b[39;00m \u001b[38;5;28;01mNone\u001b[39;00m \u001b[38;5;129;01mand\u001b[39;00m by \u001b[38;5;129;01mis\u001b[39;00m \u001b[38;5;28;01mNone\u001b[39;00m:\n\u001b[0;32m   9181\u001b[0m     \u001b[38;5;28;01mraise\u001b[39;00m \u001b[38;5;167;01mTypeError\u001b[39;00m(\u001b[38;5;124m\"\u001b[39m\u001b[38;5;124mYou have to supply one of \u001b[39m\u001b[38;5;124m'\u001b[39m\u001b[38;5;124mby\u001b[39m\u001b[38;5;124m'\u001b[39m\u001b[38;5;124m and \u001b[39m\u001b[38;5;124m'\u001b[39m\u001b[38;5;124mlevel\u001b[39m\u001b[38;5;124m'\u001b[39m\u001b[38;5;124m\"\u001b[39m)\n\u001b[1;32m-> 9183\u001b[0m \u001b[38;5;28;01mreturn\u001b[39;00m \u001b[43mDataFrameGroupBy\u001b[49m\u001b[43m(\u001b[49m\n\u001b[0;32m   9184\u001b[0m \u001b[43m    \u001b[49m\u001b[43mobj\u001b[49m\u001b[38;5;241;43m=\u001b[39;49m\u001b[38;5;28;43mself\u001b[39;49m\u001b[43m,\u001b[49m\n\u001b[0;32m   9185\u001b[0m \u001b[43m    \u001b[49m\u001b[43mkeys\u001b[49m\u001b[38;5;241;43m=\u001b[39;49m\u001b[43mby\u001b[49m\u001b[43m,\u001b[49m\n\u001b[0;32m   9186\u001b[0m \u001b[43m    \u001b[49m\u001b[43maxis\u001b[49m\u001b[38;5;241;43m=\u001b[39;49m\u001b[43maxis\u001b[49m\u001b[43m,\u001b[49m\n\u001b[0;32m   9187\u001b[0m \u001b[43m    \u001b[49m\u001b[43mlevel\u001b[49m\u001b[38;5;241;43m=\u001b[39;49m\u001b[43mlevel\u001b[49m\u001b[43m,\u001b[49m\n\u001b[0;32m   9188\u001b[0m \u001b[43m    \u001b[49m\u001b[43mas_index\u001b[49m\u001b[38;5;241;43m=\u001b[39;49m\u001b[43mas_index\u001b[49m\u001b[43m,\u001b[49m\n\u001b[0;32m   9189\u001b[0m \u001b[43m    \u001b[49m\u001b[43msort\u001b[49m\u001b[38;5;241;43m=\u001b[39;49m\u001b[43msort\u001b[49m\u001b[43m,\u001b[49m\n\u001b[0;32m   9190\u001b[0m \u001b[43m    \u001b[49m\u001b[43mgroup_keys\u001b[49m\u001b[38;5;241;43m=\u001b[39;49m\u001b[43mgroup_keys\u001b[49m\u001b[43m,\u001b[49m\n\u001b[0;32m   9191\u001b[0m \u001b[43m    \u001b[49m\u001b[43mobserved\u001b[49m\u001b[38;5;241;43m=\u001b[39;49m\u001b[43mobserved\u001b[49m\u001b[43m,\u001b[49m\n\u001b[0;32m   9192\u001b[0m \u001b[43m    \u001b[49m\u001b[43mdropna\u001b[49m\u001b[38;5;241;43m=\u001b[39;49m\u001b[43mdropna\u001b[49m\u001b[43m,\u001b[49m\n\u001b[0;32m   9193\u001b[0m \u001b[43m\u001b[49m\u001b[43m)\u001b[49m\n",
      "File \u001b[1;32m~\\AppData\\Local\\Programs\\Python\\Python312\\Lib\\site-packages\\pandas\\core\\groupby\\groupby.py:1329\u001b[0m, in \u001b[0;36mGroupBy.__init__\u001b[1;34m(self, obj, keys, axis, level, grouper, exclusions, selection, as_index, sort, group_keys, observed, dropna)\u001b[0m\n\u001b[0;32m   1326\u001b[0m \u001b[38;5;28mself\u001b[39m\u001b[38;5;241m.\u001b[39mdropna \u001b[38;5;241m=\u001b[39m dropna\n\u001b[0;32m   1328\u001b[0m \u001b[38;5;28;01mif\u001b[39;00m grouper \u001b[38;5;129;01mis\u001b[39;00m \u001b[38;5;28;01mNone\u001b[39;00m:\n\u001b[1;32m-> 1329\u001b[0m     grouper, exclusions, obj \u001b[38;5;241m=\u001b[39m \u001b[43mget_grouper\u001b[49m\u001b[43m(\u001b[49m\n\u001b[0;32m   1330\u001b[0m \u001b[43m        \u001b[49m\u001b[43mobj\u001b[49m\u001b[43m,\u001b[49m\n\u001b[0;32m   1331\u001b[0m \u001b[43m        \u001b[49m\u001b[43mkeys\u001b[49m\u001b[43m,\u001b[49m\n\u001b[0;32m   1332\u001b[0m \u001b[43m        \u001b[49m\u001b[43maxis\u001b[49m\u001b[38;5;241;43m=\u001b[39;49m\u001b[43maxis\u001b[49m\u001b[43m,\u001b[49m\n\u001b[0;32m   1333\u001b[0m \u001b[43m        \u001b[49m\u001b[43mlevel\u001b[49m\u001b[38;5;241;43m=\u001b[39;49m\u001b[43mlevel\u001b[49m\u001b[43m,\u001b[49m\n\u001b[0;32m   1334\u001b[0m \u001b[43m        \u001b[49m\u001b[43msort\u001b[49m\u001b[38;5;241;43m=\u001b[39;49m\u001b[43msort\u001b[49m\u001b[43m,\u001b[49m\n\u001b[0;32m   1335\u001b[0m \u001b[43m        \u001b[49m\u001b[43mobserved\u001b[49m\u001b[38;5;241;43m=\u001b[39;49m\u001b[38;5;28;43;01mFalse\u001b[39;49;00m\u001b[43m \u001b[49m\u001b[38;5;28;43;01mif\u001b[39;49;00m\u001b[43m \u001b[49m\u001b[43mobserved\u001b[49m\u001b[43m \u001b[49m\u001b[38;5;129;43;01mis\u001b[39;49;00m\u001b[43m \u001b[49m\u001b[43mlib\u001b[49m\u001b[38;5;241;43m.\u001b[39;49m\u001b[43mno_default\u001b[49m\u001b[43m \u001b[49m\u001b[38;5;28;43;01melse\u001b[39;49;00m\u001b[43m \u001b[49m\u001b[43mobserved\u001b[49m\u001b[43m,\u001b[49m\n\u001b[0;32m   1336\u001b[0m \u001b[43m        \u001b[49m\u001b[43mdropna\u001b[49m\u001b[38;5;241;43m=\u001b[39;49m\u001b[38;5;28;43mself\u001b[39;49m\u001b[38;5;241;43m.\u001b[39;49m\u001b[43mdropna\u001b[49m\u001b[43m,\u001b[49m\n\u001b[0;32m   1337\u001b[0m \u001b[43m    \u001b[49m\u001b[43m)\u001b[49m\n\u001b[0;32m   1339\u001b[0m \u001b[38;5;28;01mif\u001b[39;00m observed \u001b[38;5;129;01mis\u001b[39;00m lib\u001b[38;5;241m.\u001b[39mno_default:\n\u001b[0;32m   1340\u001b[0m     \u001b[38;5;28;01mif\u001b[39;00m \u001b[38;5;28many\u001b[39m(ping\u001b[38;5;241m.\u001b[39m_passed_categorical \u001b[38;5;28;01mfor\u001b[39;00m ping \u001b[38;5;129;01min\u001b[39;00m grouper\u001b[38;5;241m.\u001b[39mgroupings):\n",
      "File \u001b[1;32m~\\AppData\\Local\\Programs\\Python\\Python312\\Lib\\site-packages\\pandas\\core\\groupby\\grouper.py:1043\u001b[0m, in \u001b[0;36mget_grouper\u001b[1;34m(obj, key, axis, level, sort, observed, validate, dropna)\u001b[0m\n\u001b[0;32m   1041\u001b[0m         in_axis, level, gpr \u001b[38;5;241m=\u001b[39m \u001b[38;5;28;01mFalse\u001b[39;00m, gpr, \u001b[38;5;28;01mNone\u001b[39;00m\n\u001b[0;32m   1042\u001b[0m     \u001b[38;5;28;01melse\u001b[39;00m:\n\u001b[1;32m-> 1043\u001b[0m         \u001b[38;5;28;01mraise\u001b[39;00m \u001b[38;5;167;01mKeyError\u001b[39;00m(gpr)\n\u001b[0;32m   1044\u001b[0m \u001b[38;5;28;01melif\u001b[39;00m \u001b[38;5;28misinstance\u001b[39m(gpr, Grouper) \u001b[38;5;129;01mand\u001b[39;00m gpr\u001b[38;5;241m.\u001b[39mkey \u001b[38;5;129;01mis\u001b[39;00m \u001b[38;5;129;01mnot\u001b[39;00m \u001b[38;5;28;01mNone\u001b[39;00m:\n\u001b[0;32m   1045\u001b[0m     \u001b[38;5;66;03m# Add key to exclusions\u001b[39;00m\n\u001b[0;32m   1046\u001b[0m     exclusions\u001b[38;5;241m.\u001b[39madd(gpr\u001b[38;5;241m.\u001b[39mkey)\n",
      "\u001b[1;31mKeyError\u001b[0m: 'Month'"
     ]
    }
   ],
   "source": [
    "monthly_customers = merged_customers.groupby('Month')['Musteri Numarasi'].nunique().sort_values(ascending=False).head(12)\n",
    "print(monthly_customers)"
   ]
  },
  {
   "cell_type": "code",
   "execution_count": null,
   "id": "a7d242f8-e150-47e5-9957-6c2f2c7653b6",
   "metadata": {},
   "outputs": [],
   "source": []
  },
  {
   "cell_type": "code",
   "execution_count": null,
   "id": "81a6969b-1a8a-49b6-b598-30fd05763cc2",
   "metadata": {},
   "outputs": [],
   "source": []
  }
 ],
 "metadata": {
  "kernelspec": {
   "display_name": "Python 3 (ipykernel)",
   "language": "python",
   "name": "python3"
  },
  "language_info": {
   "codemirror_mode": {
    "name": "ipython",
    "version": 3
   },
   "file_extension": ".py",
   "mimetype": "text/x-python",
   "name": "python",
   "nbconvert_exporter": "python",
   "pygments_lexer": "ipython3",
   "version": "3.12.8"
  }
 },
 "nbformat": 4,
 "nbformat_minor": 5
}
